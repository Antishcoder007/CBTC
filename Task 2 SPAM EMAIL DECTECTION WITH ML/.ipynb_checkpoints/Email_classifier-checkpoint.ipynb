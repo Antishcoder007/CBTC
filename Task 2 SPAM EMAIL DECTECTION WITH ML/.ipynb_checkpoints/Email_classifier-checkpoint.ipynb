{
 "cells": [
  {
   "cell_type": "code",
   "execution_count": 260,
   "id": "c7afca39",
   "metadata": {},
   "outputs": [],
   "source": [
    "# importing all the necessary libraries which are use\n",
    "import pandas as pd \n",
    "import numpy as np\n",
    "from sklearn.feature_extraction.text import CountVectorizer\n",
    "from sklearn.feature_extraction.text import TfidfVectorizer\n",
    "\n",
    "import seaborn as sns\n",
    "import matplotlib.pyplot as plt"
   ]
  },
  {
   "cell_type": "code",
   "execution_count": 261,
   "id": "67b75109",
   "metadata": {
    "scrolled": true
   },
   "outputs": [
    {
     "data": {
      "text/html": [
       "<div>\n",
       "<style scoped>\n",
       "    .dataframe tbody tr th:only-of-type {\n",
       "        vertical-align: middle;\n",
       "    }\n",
       "\n",
       "    .dataframe tbody tr th {\n",
       "        vertical-align: top;\n",
       "    }\n",
       "\n",
       "    .dataframe thead th {\n",
       "        text-align: right;\n",
       "    }\n",
       "</style>\n",
       "<table border=\"1\" class=\"dataframe\">\n",
       "  <thead>\n",
       "    <tr style=\"text-align: right;\">\n",
       "      <th></th>\n",
       "      <th>v1</th>\n",
       "      <th>v2</th>\n",
       "      <th>Unnamed: 2</th>\n",
       "      <th>Unnamed: 3</th>\n",
       "      <th>Unnamed: 4</th>\n",
       "    </tr>\n",
       "  </thead>\n",
       "  <tbody>\n",
       "    <tr>\n",
       "      <th>0</th>\n",
       "      <td>ham</td>\n",
       "      <td>Go until jurong point, crazy.. Available only ...</td>\n",
       "      <td>NaN</td>\n",
       "      <td>NaN</td>\n",
       "      <td>NaN</td>\n",
       "    </tr>\n",
       "    <tr>\n",
       "      <th>1</th>\n",
       "      <td>ham</td>\n",
       "      <td>Ok lar... Joking wif u oni...</td>\n",
       "      <td>NaN</td>\n",
       "      <td>NaN</td>\n",
       "      <td>NaN</td>\n",
       "    </tr>\n",
       "    <tr>\n",
       "      <th>2</th>\n",
       "      <td>spam</td>\n",
       "      <td>Free entry in 2 a wkly comp to win FA Cup fina...</td>\n",
       "      <td>NaN</td>\n",
       "      <td>NaN</td>\n",
       "      <td>NaN</td>\n",
       "    </tr>\n",
       "    <tr>\n",
       "      <th>3</th>\n",
       "      <td>ham</td>\n",
       "      <td>U dun say so early hor... U c already then say...</td>\n",
       "      <td>NaN</td>\n",
       "      <td>NaN</td>\n",
       "      <td>NaN</td>\n",
       "    </tr>\n",
       "    <tr>\n",
       "      <th>4</th>\n",
       "      <td>ham</td>\n",
       "      <td>Nah I don't think he goes to usf, he lives aro...</td>\n",
       "      <td>NaN</td>\n",
       "      <td>NaN</td>\n",
       "      <td>NaN</td>\n",
       "    </tr>\n",
       "    <tr>\n",
       "      <th>...</th>\n",
       "      <td>...</td>\n",
       "      <td>...</td>\n",
       "      <td>...</td>\n",
       "      <td>...</td>\n",
       "      <td>...</td>\n",
       "    </tr>\n",
       "    <tr>\n",
       "      <th>5567</th>\n",
       "      <td>spam</td>\n",
       "      <td>This is the 2nd time we have tried 2 contact u...</td>\n",
       "      <td>NaN</td>\n",
       "      <td>NaN</td>\n",
       "      <td>NaN</td>\n",
       "    </tr>\n",
       "    <tr>\n",
       "      <th>5568</th>\n",
       "      <td>ham</td>\n",
       "      <td>Will �_ b going to esplanade fr home?</td>\n",
       "      <td>NaN</td>\n",
       "      <td>NaN</td>\n",
       "      <td>NaN</td>\n",
       "    </tr>\n",
       "    <tr>\n",
       "      <th>5569</th>\n",
       "      <td>ham</td>\n",
       "      <td>Pity, * was in mood for that. So...any other s...</td>\n",
       "      <td>NaN</td>\n",
       "      <td>NaN</td>\n",
       "      <td>NaN</td>\n",
       "    </tr>\n",
       "    <tr>\n",
       "      <th>5570</th>\n",
       "      <td>ham</td>\n",
       "      <td>The guy did some bitching but I acted like i'd...</td>\n",
       "      <td>NaN</td>\n",
       "      <td>NaN</td>\n",
       "      <td>NaN</td>\n",
       "    </tr>\n",
       "    <tr>\n",
       "      <th>5571</th>\n",
       "      <td>ham</td>\n",
       "      <td>Rofl. Its true to its name</td>\n",
       "      <td>NaN</td>\n",
       "      <td>NaN</td>\n",
       "      <td>NaN</td>\n",
       "    </tr>\n",
       "  </tbody>\n",
       "</table>\n",
       "<p>5572 rows × 5 columns</p>\n",
       "</div>"
      ],
      "text/plain": [
       "        v1                                                 v2 Unnamed: 2  \\\n",
       "0      ham  Go until jurong point, crazy.. Available only ...        NaN   \n",
       "1      ham                      Ok lar... Joking wif u oni...        NaN   \n",
       "2     spam  Free entry in 2 a wkly comp to win FA Cup fina...        NaN   \n",
       "3      ham  U dun say so early hor... U c already then say...        NaN   \n",
       "4      ham  Nah I don't think he goes to usf, he lives aro...        NaN   \n",
       "...    ...                                                ...        ...   \n",
       "5567  spam  This is the 2nd time we have tried 2 contact u...        NaN   \n",
       "5568   ham              Will �_ b going to esplanade fr home?        NaN   \n",
       "5569   ham  Pity, * was in mood for that. So...any other s...        NaN   \n",
       "5570   ham  The guy did some bitching but I acted like i'd...        NaN   \n",
       "5571   ham                         Rofl. Its true to its name        NaN   \n",
       "\n",
       "     Unnamed: 3 Unnamed: 4  \n",
       "0           NaN        NaN  \n",
       "1           NaN        NaN  \n",
       "2           NaN        NaN  \n",
       "3           NaN        NaN  \n",
       "4           NaN        NaN  \n",
       "...         ...        ...  \n",
       "5567        NaN        NaN  \n",
       "5568        NaN        NaN  \n",
       "5569        NaN        NaN  \n",
       "5570        NaN        NaN  \n",
       "5571        NaN        NaN  \n",
       "\n",
       "[5572 rows x 5 columns]"
      ]
     },
     "execution_count": 261,
     "metadata": {},
     "output_type": "execute_result"
    }
   ],
   "source": [
    "# the the csv file which contain all the spam and ham Emails\n",
    "\n",
    "Email = pd.read_csv('Spam Email Detection - spam.csv')\n",
    "Email"
   ]
  },
  {
   "cell_type": "code",
   "execution_count": null,
   "id": "8314778e",
   "metadata": {},
   "outputs": [],
   "source": []
  },
  {
   "cell_type": "code",
   "execution_count": 265,
   "id": "42983d3b",
   "metadata": {
    "scrolled": false
   },
   "outputs": [
    {
     "data": {
      "text/html": [
       "<div>\n",
       "<style scoped>\n",
       "    .dataframe tbody tr th:only-of-type {\n",
       "        vertical-align: middle;\n",
       "    }\n",
       "\n",
       "    .dataframe tbody tr th {\n",
       "        vertical-align: top;\n",
       "    }\n",
       "\n",
       "    .dataframe thead th {\n",
       "        text-align: right;\n",
       "    }\n",
       "</style>\n",
       "<table border=\"1\" class=\"dataframe\">\n",
       "  <thead>\n",
       "    <tr style=\"text-align: right;\">\n",
       "      <th></th>\n",
       "      <th>v1</th>\n",
       "      <th>v2</th>\n",
       "      <th>Unnamed: 2</th>\n",
       "      <th>Unnamed: 3</th>\n",
       "      <th>Unnamed: 4</th>\n",
       "    </tr>\n",
       "  </thead>\n",
       "  <tbody>\n",
       "    <tr>\n",
       "      <th>count</th>\n",
       "      <td>5572</td>\n",
       "      <td>5572</td>\n",
       "      <td>50</td>\n",
       "      <td>12</td>\n",
       "      <td>6</td>\n",
       "    </tr>\n",
       "    <tr>\n",
       "      <th>unique</th>\n",
       "      <td>2</td>\n",
       "      <td>5163</td>\n",
       "      <td>43</td>\n",
       "      <td>10</td>\n",
       "      <td>5</td>\n",
       "    </tr>\n",
       "    <tr>\n",
       "      <th>top</th>\n",
       "      <td>ham</td>\n",
       "      <td>Sorry, I'll call later</td>\n",
       "      <td>bt not his girlfrnd... G o o d n i g h t . . .@\"</td>\n",
       "      <td>MK17 92H. 450Ppw 16\"</td>\n",
       "      <td>GNT:-)\"</td>\n",
       "    </tr>\n",
       "    <tr>\n",
       "      <th>freq</th>\n",
       "      <td>4825</td>\n",
       "      <td>30</td>\n",
       "      <td>3</td>\n",
       "      <td>2</td>\n",
       "      <td>2</td>\n",
       "    </tr>\n",
       "  </tbody>\n",
       "</table>\n",
       "</div>"
      ],
      "text/plain": [
       "          v1                      v2  \\\n",
       "count   5572                    5572   \n",
       "unique     2                    5163   \n",
       "top      ham  Sorry, I'll call later   \n",
       "freq    4825                      30   \n",
       "\n",
       "                                               Unnamed: 2  \\\n",
       "count                                                  50   \n",
       "unique                                                 43   \n",
       "top      bt not his girlfrnd... G o o d n i g h t . . .@\"   \n",
       "freq                                                    3   \n",
       "\n",
       "                   Unnamed: 3 Unnamed: 4  \n",
       "count                      12          6  \n",
       "unique                     10          5  \n",
       "top      MK17 92H. 450Ppw 16\"    GNT:-)\"  \n",
       "freq                        2          2  "
      ]
     },
     "execution_count": 265,
     "metadata": {},
     "output_type": "execute_result"
    }
   ],
   "source": [
    "# it will describe the data like total counts for a cloumns and etc \n",
    "\n",
    "Email.describe()"
   ]
  },
  {
   "cell_type": "code",
   "execution_count": 266,
   "id": "d74d9691",
   "metadata": {},
   "outputs": [
    {
     "name": "stdout",
     "output_type": "stream",
     "text": [
      "<class 'pandas.core.frame.DataFrame'>\n",
      "RangeIndex: 5572 entries, 0 to 5571\n",
      "Data columns (total 5 columns):\n",
      " #   Column      Non-Null Count  Dtype \n",
      "---  ------      --------------  ----- \n",
      " 0   v1          5572 non-null   object\n",
      " 1   v2          5572 non-null   object\n",
      " 2   Unnamed: 2  50 non-null     object\n",
      " 3   Unnamed: 3  12 non-null     object\n",
      " 4   Unnamed: 4  6 non-null      object\n",
      "dtypes: object(5)\n",
      "memory usage: 217.8+ KB\n"
     ]
    }
   ],
   "source": [
    "# it will show all the information the type of column like all the columns are of object type and also we can \n",
    "# clearly see that  Unnamed: 2 ,Unnamed: 3 ,Unnamed: 4 are of object type and unnecessary columns so drop it  \n",
    "Email.info()"
   ]
  },
  {
   "cell_type": "code",
   "execution_count": 267,
   "id": "e0adc81f",
   "metadata": {
    "scrolled": true
   },
   "outputs": [
    {
     "data": {
      "text/html": [
       "<div>\n",
       "<style scoped>\n",
       "    .dataframe tbody tr th:only-of-type {\n",
       "        vertical-align: middle;\n",
       "    }\n",
       "\n",
       "    .dataframe tbody tr th {\n",
       "        vertical-align: top;\n",
       "    }\n",
       "\n",
       "    .dataframe thead th {\n",
       "        text-align: right;\n",
       "    }\n",
       "</style>\n",
       "<table border=\"1\" class=\"dataframe\">\n",
       "  <thead>\n",
       "    <tr style=\"text-align: right;\">\n",
       "      <th></th>\n",
       "      <th>v1</th>\n",
       "      <th>v2</th>\n",
       "    </tr>\n",
       "  </thead>\n",
       "  <tbody>\n",
       "    <tr>\n",
       "      <th>0</th>\n",
       "      <td>ham</td>\n",
       "      <td>Go until jurong point, crazy.. Available only ...</td>\n",
       "    </tr>\n",
       "    <tr>\n",
       "      <th>1</th>\n",
       "      <td>ham</td>\n",
       "      <td>Ok lar... Joking wif u oni...</td>\n",
       "    </tr>\n",
       "    <tr>\n",
       "      <th>2</th>\n",
       "      <td>spam</td>\n",
       "      <td>Free entry in 2 a wkly comp to win FA Cup fina...</td>\n",
       "    </tr>\n",
       "    <tr>\n",
       "      <th>3</th>\n",
       "      <td>ham</td>\n",
       "      <td>U dun say so early hor... U c already then say...</td>\n",
       "    </tr>\n",
       "    <tr>\n",
       "      <th>4</th>\n",
       "      <td>ham</td>\n",
       "      <td>Nah I don't think he goes to usf, he lives aro...</td>\n",
       "    </tr>\n",
       "    <tr>\n",
       "      <th>...</th>\n",
       "      <td>...</td>\n",
       "      <td>...</td>\n",
       "    </tr>\n",
       "    <tr>\n",
       "      <th>5567</th>\n",
       "      <td>spam</td>\n",
       "      <td>This is the 2nd time we have tried 2 contact u...</td>\n",
       "    </tr>\n",
       "    <tr>\n",
       "      <th>5568</th>\n",
       "      <td>ham</td>\n",
       "      <td>Will �_ b going to esplanade fr home?</td>\n",
       "    </tr>\n",
       "    <tr>\n",
       "      <th>5569</th>\n",
       "      <td>ham</td>\n",
       "      <td>Pity, * was in mood for that. So...any other s...</td>\n",
       "    </tr>\n",
       "    <tr>\n",
       "      <th>5570</th>\n",
       "      <td>ham</td>\n",
       "      <td>The guy did some bitching but I acted like i'd...</td>\n",
       "    </tr>\n",
       "    <tr>\n",
       "      <th>5571</th>\n",
       "      <td>ham</td>\n",
       "      <td>Rofl. Its true to its name</td>\n",
       "    </tr>\n",
       "  </tbody>\n",
       "</table>\n",
       "<p>5572 rows × 2 columns</p>\n",
       "</div>"
      ],
      "text/plain": [
       "        v1                                                 v2\n",
       "0      ham  Go until jurong point, crazy.. Available only ...\n",
       "1      ham                      Ok lar... Joking wif u oni...\n",
       "2     spam  Free entry in 2 a wkly comp to win FA Cup fina...\n",
       "3      ham  U dun say so early hor... U c already then say...\n",
       "4      ham  Nah I don't think he goes to usf, he lives aro...\n",
       "...    ...                                                ...\n",
       "5567  spam  This is the 2nd time we have tried 2 contact u...\n",
       "5568   ham              Will �_ b going to esplanade fr home?\n",
       "5569   ham  Pity, * was in mood for that. So...any other s...\n",
       "5570   ham  The guy did some bitching but I acted like i'd...\n",
       "5571   ham                         Rofl. Its true to its name\n",
       "\n",
       "[5572 rows x 2 columns]"
      ]
     },
     "execution_count": 267,
     "metadata": {},
     "output_type": "execute_result"
    }
   ],
   "source": [
    "# droping unnecessary columns\n",
    "\n",
    "Email =Email.drop(['Unnamed: 2','Unnamed: 3','Unnamed: 4'],axis=1)\n",
    "Email"
   ]
  },
  {
   "cell_type": "code",
   "execution_count": 268,
   "id": "53b93eec",
   "metadata": {},
   "outputs": [
    {
     "data": {
      "text/plain": [
       "v1    0\n",
       "v2    0\n",
       "dtype: int64"
      ]
     },
     "execution_count": 268,
     "metadata": {},
     "output_type": "execute_result"
    }
   ],
   "source": [
    "# loking for null values\n",
    "Email.isnull().sum()"
   ]
  },
  {
   "cell_type": "code",
   "execution_count": 269,
   "id": "a6b419d8",
   "metadata": {},
   "outputs": [
    {
     "data": {
      "text/plain": [
       "False    5163\n",
       "True      409\n",
       "Name: count, dtype: int64"
      ]
     },
     "execution_count": 269,
     "metadata": {},
     "output_type": "execute_result"
    }
   ],
   "source": [
    "# looking for duplicate values\n",
    "Email.duplicated().value_counts()"
   ]
  },
  {
   "cell_type": "code",
   "execution_count": 270,
   "id": "65ffbc8d",
   "metadata": {},
   "outputs": [],
   "source": [
    "# remove duplicate values\n",
    "Email = Email.drop_duplicates(subset='v2', keep='first')"
   ]
  },
  {
   "cell_type": "code",
   "execution_count": 271,
   "id": "6ad24116",
   "metadata": {},
   "outputs": [
    {
     "data": {
      "text/plain": [
       "0"
      ]
     },
     "execution_count": 271,
     "metadata": {},
     "output_type": "execute_result"
    }
   ],
   "source": [
    "Email.duplicated().sum()"
   ]
  },
  {
   "cell_type": "code",
   "execution_count": 272,
   "id": "8358a84f",
   "metadata": {},
   "outputs": [
    {
     "data": {
      "text/plain": [
       "(5163, 2)"
      ]
     },
     "execution_count": 272,
     "metadata": {},
     "output_type": "execute_result"
    }
   ],
   "source": [
    "Email.shape"
   ]
  },
  {
   "cell_type": "markdown",
   "id": "fa704d1a",
   "metadata": {},
   "source": [
    "# EDA"
   ]
  },
  {
   "cell_type": "code",
   "execution_count": 273,
   "id": "2c661494",
   "metadata": {
    "scrolled": true
   },
   "outputs": [
    {
     "data": {
      "text/html": [
       "<div>\n",
       "<style scoped>\n",
       "    .dataframe tbody tr th:only-of-type {\n",
       "        vertical-align: middle;\n",
       "    }\n",
       "\n",
       "    .dataframe tbody tr th {\n",
       "        vertical-align: top;\n",
       "    }\n",
       "\n",
       "    .dataframe thead th {\n",
       "        text-align: right;\n",
       "    }\n",
       "</style>\n",
       "<table border=\"1\" class=\"dataframe\">\n",
       "  <thead>\n",
       "    <tr style=\"text-align: right;\">\n",
       "      <th></th>\n",
       "      <th>v1</th>\n",
       "      <th>v2</th>\n",
       "    </tr>\n",
       "  </thead>\n",
       "  <tbody>\n",
       "    <tr>\n",
       "      <th>0</th>\n",
       "      <td>ham</td>\n",
       "      <td>Go until jurong point, crazy.. Available only ...</td>\n",
       "    </tr>\n",
       "    <tr>\n",
       "      <th>1</th>\n",
       "      <td>ham</td>\n",
       "      <td>Ok lar... Joking wif u oni...</td>\n",
       "    </tr>\n",
       "    <tr>\n",
       "      <th>2</th>\n",
       "      <td>spam</td>\n",
       "      <td>Free entry in 2 a wkly comp to win FA Cup fina...</td>\n",
       "    </tr>\n",
       "    <tr>\n",
       "      <th>3</th>\n",
       "      <td>ham</td>\n",
       "      <td>U dun say so early hor... U c already then say...</td>\n",
       "    </tr>\n",
       "    <tr>\n",
       "      <th>4</th>\n",
       "      <td>ham</td>\n",
       "      <td>Nah I don't think he goes to usf, he lives aro...</td>\n",
       "    </tr>\n",
       "  </tbody>\n",
       "</table>\n",
       "</div>"
      ],
      "text/plain": [
       "     v1                                                 v2\n",
       "0   ham  Go until jurong point, crazy.. Available only ...\n",
       "1   ham                      Ok lar... Joking wif u oni...\n",
       "2  spam  Free entry in 2 a wkly comp to win FA Cup fina...\n",
       "3   ham  U dun say so early hor... U c already then say...\n",
       "4   ham  Nah I don't think he goes to usf, he lives aro..."
      ]
     },
     "execution_count": 273,
     "metadata": {},
     "output_type": "execute_result"
    }
   ],
   "source": [
    "Email.head()"
   ]
  },
  {
   "cell_type": "code",
   "execution_count": 274,
   "id": "1c4b0da0",
   "metadata": {},
   "outputs": [],
   "source": [
    "# import waring \n",
    "import warnings\n",
    "warnings.filterwarnings('ignore')\n",
    "\n",
    "# here we are renaming the column name\n",
    "Email.rename(columns = {'v1':'label','v2':'email_message'},inplace=True)"
   ]
  },
  {
   "cell_type": "code",
   "execution_count": 275,
   "id": "f7c67067",
   "metadata": {},
   "outputs": [
    {
     "data": {
      "text/html": [
       "<div>\n",
       "<style scoped>\n",
       "    .dataframe tbody tr th:only-of-type {\n",
       "        vertical-align: middle;\n",
       "    }\n",
       "\n",
       "    .dataframe tbody tr th {\n",
       "        vertical-align: top;\n",
       "    }\n",
       "\n",
       "    .dataframe thead th {\n",
       "        text-align: right;\n",
       "    }\n",
       "</style>\n",
       "<table border=\"1\" class=\"dataframe\">\n",
       "  <thead>\n",
       "    <tr style=\"text-align: right;\">\n",
       "      <th></th>\n",
       "      <th>label</th>\n",
       "      <th>email_message</th>\n",
       "    </tr>\n",
       "  </thead>\n",
       "  <tbody>\n",
       "    <tr>\n",
       "      <th>0</th>\n",
       "      <td>ham</td>\n",
       "      <td>Go until jurong point, crazy.. Available only ...</td>\n",
       "    </tr>\n",
       "    <tr>\n",
       "      <th>1</th>\n",
       "      <td>ham</td>\n",
       "      <td>Ok lar... Joking wif u oni...</td>\n",
       "    </tr>\n",
       "    <tr>\n",
       "      <th>2</th>\n",
       "      <td>spam</td>\n",
       "      <td>Free entry in 2 a wkly comp to win FA Cup fina...</td>\n",
       "    </tr>\n",
       "    <tr>\n",
       "      <th>3</th>\n",
       "      <td>ham</td>\n",
       "      <td>U dun say so early hor... U c already then say...</td>\n",
       "    </tr>\n",
       "    <tr>\n",
       "      <th>4</th>\n",
       "      <td>ham</td>\n",
       "      <td>Nah I don't think he goes to usf, he lives aro...</td>\n",
       "    </tr>\n",
       "    <tr>\n",
       "      <th>...</th>\n",
       "      <td>...</td>\n",
       "      <td>...</td>\n",
       "    </tr>\n",
       "    <tr>\n",
       "      <th>5567</th>\n",
       "      <td>spam</td>\n",
       "      <td>This is the 2nd time we have tried 2 contact u...</td>\n",
       "    </tr>\n",
       "    <tr>\n",
       "      <th>5568</th>\n",
       "      <td>ham</td>\n",
       "      <td>Will �_ b going to esplanade fr home?</td>\n",
       "    </tr>\n",
       "    <tr>\n",
       "      <th>5569</th>\n",
       "      <td>ham</td>\n",
       "      <td>Pity, * was in mood for that. So...any other s...</td>\n",
       "    </tr>\n",
       "    <tr>\n",
       "      <th>5570</th>\n",
       "      <td>ham</td>\n",
       "      <td>The guy did some bitching but I acted like i'd...</td>\n",
       "    </tr>\n",
       "    <tr>\n",
       "      <th>5571</th>\n",
       "      <td>ham</td>\n",
       "      <td>Rofl. Its true to its name</td>\n",
       "    </tr>\n",
       "  </tbody>\n",
       "</table>\n",
       "<p>5163 rows × 2 columns</p>\n",
       "</div>"
      ],
      "text/plain": [
       "     label                                      email_message\n",
       "0      ham  Go until jurong point, crazy.. Available only ...\n",
       "1      ham                      Ok lar... Joking wif u oni...\n",
       "2     spam  Free entry in 2 a wkly comp to win FA Cup fina...\n",
       "3      ham  U dun say so early hor... U c already then say...\n",
       "4      ham  Nah I don't think he goes to usf, he lives aro...\n",
       "...    ...                                                ...\n",
       "5567  spam  This is the 2nd time we have tried 2 contact u...\n",
       "5568   ham              Will �_ b going to esplanade fr home?\n",
       "5569   ham  Pity, * was in mood for that. So...any other s...\n",
       "5570   ham  The guy did some bitching but I acted like i'd...\n",
       "5571   ham                         Rofl. Its true to its name\n",
       "\n",
       "[5163 rows x 2 columns]"
      ]
     },
     "execution_count": 275,
     "metadata": {},
     "output_type": "execute_result"
    }
   ],
   "source": [
    "Email"
   ]
  },
  {
   "cell_type": "code",
   "execution_count": 276,
   "id": "834fd9ad",
   "metadata": {},
   "outputs": [
    {
     "data": {
      "text/plain": [
       "label\n",
       "ham     4516\n",
       "spam     647\n",
       "Name: count, dtype: int64"
      ]
     },
     "execution_count": 276,
     "metadata": {},
     "output_type": "execute_result"
    }
   ],
   "source": [
    "Email['label'].value_counts()"
   ]
  },
  {
   "cell_type": "code",
   "execution_count": 277,
   "id": "3d5f3e25",
   "metadata": {
    "scrolled": true
   },
   "outputs": [
    {
     "data": {
      "image/png": "[encoded data removed]",
      "text/plain": [
       "<Figure size 640x480 with 1 Axes>"
      ]
     },
     "metadata": {},
     "output_type": "display_data"
    }
   ],
   "source": [
    "plt.pie(Email['label'].value_counts(),labels=['ham','spam'],autopct='%0.2f')\n",
    "plt.show()"
   ]
  },
  {
   "cell_type": "code",
   "execution_count": 278,
   "id": "bfdbb141",
   "metadata": {},
   "outputs": [
    {
     "data": {
      "text/plain": [
       "5163"
      ]
     },
     "execution_count": 278,
     "metadata": {},
     "output_type": "execute_result"
    }
   ],
   "source": [
    "4516+647"
   ]
  },
  {
   "cell_type": "code",
   "execution_count": 279,
   "id": "9695e05f",
   "metadata": {},
   "outputs": [
    {
     "data": {
      "text/plain": [
       "87.46852605074568"
      ]
     },
     "execution_count": 279,
     "metadata": {},
     "output_type": "execute_result"
    }
   ],
   "source": [
    "(4516/5163)*100"
   ]
  },
  {
   "cell_type": "code",
   "execution_count": 280,
   "id": "e0464bcb",
   "metadata": {},
   "outputs": [
    {
     "data": {
      "text/plain": [
       "12.531473949254309"
      ]
     },
     "execution_count": 280,
     "metadata": {},
     "output_type": "execute_result"
    }
   ],
   "source": [
    "(647/5163)*100"
   ]
  },
  {
   "cell_type": "code",
   "execution_count": 281,
   "id": "5a64f413",
   "metadata": {},
   "outputs": [],
   "source": [
    "# Balanced OR imbalanced\n",
    "# if the ratio is not 60 40 # then it is a imbalance data "
   ]
  },
  {
   "cell_type": "code",
   "execution_count": 282,
   "id": "b9345299",
   "metadata": {},
   "outputs": [],
   "source": [
    "spam = Email[Email['label'] == 'spam']\n",
    "ham = Email[Email['label'] == 'ham']"
   ]
  },
  {
   "cell_type": "code",
   "execution_count": 283,
   "id": "bc5fff9a",
   "metadata": {},
   "outputs": [
    {
     "data": {
      "text/plain": [
       "((647, 2), (4516, 2))"
      ]
     },
     "execution_count": 283,
     "metadata": {},
     "output_type": "execute_result"
    }
   ],
   "source": [
    "spam.shape,ham.shape"
   ]
  },
  {
   "cell_type": "code",
   "execution_count": 284,
   "id": "cb3269e0",
   "metadata": {},
   "outputs": [],
   "source": [
    "ham = ham.sample(1000)  # randomely select 1000 records"
   ]
  },
  {
   "cell_type": "code",
   "execution_count": 285,
   "id": "7a649a0d",
   "metadata": {},
   "outputs": [
    {
     "data": {
      "text/plain": [
       "((647, 2), (1000, 2))"
      ]
     },
     "execution_count": 285,
     "metadata": {},
     "output_type": "execute_result"
    }
   ],
   "source": [
    "spam.shape,ham.shape"
   ]
  },
  {
   "cell_type": "code",
   "execution_count": 286,
   "id": "64a0e1b0",
   "metadata": {},
   "outputs": [
    {
     "data": {
      "text/html": [
       "<div>\n",
       "<style scoped>\n",
       "    .dataframe tbody tr th:only-of-type {\n",
       "        vertical-align: middle;\n",
       "    }\n",
       "\n",
       "    .dataframe tbody tr th {\n",
       "        vertical-align: top;\n",
       "    }\n",
       "\n",
       "    .dataframe thead th {\n",
       "        text-align: right;\n",
       "    }\n",
       "</style>\n",
       "<table border=\"1\" class=\"dataframe\">\n",
       "  <thead>\n",
       "    <tr style=\"text-align: right;\">\n",
       "      <th></th>\n",
       "      <th>label</th>\n",
       "      <th>email_message</th>\n",
       "    </tr>\n",
       "  </thead>\n",
       "  <tbody>\n",
       "    <tr>\n",
       "      <th>3245</th>\n",
       "      <td>ham</td>\n",
       "      <td>Funny fact Nobody teaches volcanoes 2 erupt, t...</td>\n",
       "    </tr>\n",
       "    <tr>\n",
       "      <th>4647</th>\n",
       "      <td>ham</td>\n",
       "      <td>We are okay. Going to sleep now. Later</td>\n",
       "    </tr>\n",
       "    <tr>\n",
       "      <th>2730</th>\n",
       "      <td>ham</td>\n",
       "      <td>I havent lei.. Next mon can?</td>\n",
       "    </tr>\n",
       "    <tr>\n",
       "      <th>3361</th>\n",
       "      <td>ham</td>\n",
       "      <td>No messages on her phone. I'm holding it now</td>\n",
       "    </tr>\n",
       "    <tr>\n",
       "      <th>4565</th>\n",
       "      <td>ham</td>\n",
       "      <td>Should i buy him a blackberry bold 2 or torch....</td>\n",
       "    </tr>\n",
       "  </tbody>\n",
       "</table>\n",
       "</div>"
      ],
      "text/plain": [
       "     label                                      email_message\n",
       "3245   ham  Funny fact Nobody teaches volcanoes 2 erupt, t...\n",
       "4647   ham             We are okay. Going to sleep now. Later\n",
       "2730   ham                       I havent lei.. Next mon can?\n",
       "3361   ham       No messages on her phone. I'm holding it now\n",
       "4565   ham  Should i buy him a blackberry bold 2 or torch...."
      ]
     },
     "execution_count": 286,
     "metadata": {},
     "output_type": "execute_result"
    }
   ],
   "source": [
    "Email_data =  pd.concat([ham,spam],axis =0) ## to conbine data in one data frame\n",
    "Email_data.head()"
   ]
  },
  {
   "cell_type": "code",
   "execution_count": 287,
   "id": "a9885a7f",
   "metadata": {},
   "outputs": [
    {
     "data": {
      "image/png": "[encoded data removed]",
      "text/plain": [
       "<Figure size 640x480 with 1 Axes>"
      ]
     },
     "metadata": {},
     "output_type": "display_data"
    }
   ],
   "source": [
    "plt.pie(Email_data['label'].value_counts(),labels=['ham','spam'],autopct='%0.2f%%')\n",
    "plt.show()"
   ]
  },
  {
   "cell_type": "code",
   "execution_count": null,
   "id": "4af666c8",
   "metadata": {},
   "outputs": [],
   "source": [
    " "
   ]
  },
  {
   "cell_type": "code",
   "execution_count": 288,
   "id": "5e22d5ae",
   "metadata": {},
   "outputs": [
    {
     "data": {
      "text/html": [
       "<div>\n",
       "<style scoped>\n",
       "    .dataframe tbody tr th:only-of-type {\n",
       "        vertical-align: middle;\n",
       "    }\n",
       "\n",
       "    .dataframe tbody tr th {\n",
       "        vertical-align: top;\n",
       "    }\n",
       "\n",
       "    .dataframe thead th {\n",
       "        text-align: right;\n",
       "    }\n",
       "</style>\n",
       "<table border=\"1\" class=\"dataframe\">\n",
       "  <thead>\n",
       "    <tr style=\"text-align: right;\">\n",
       "      <th></th>\n",
       "      <th>label</th>\n",
       "      <th>email_message</th>\n",
       "    </tr>\n",
       "  </thead>\n",
       "  <tbody>\n",
       "    <tr>\n",
       "      <th>3245</th>\n",
       "      <td>ham</td>\n",
       "      <td>Funny fact Nobody teaches volcanoes 2 erupt, t...</td>\n",
       "    </tr>\n",
       "    <tr>\n",
       "      <th>4647</th>\n",
       "      <td>ham</td>\n",
       "      <td>We are okay. Going to sleep now. Later</td>\n",
       "    </tr>\n",
       "    <tr>\n",
       "      <th>2730</th>\n",
       "      <td>ham</td>\n",
       "      <td>I havent lei.. Next mon can?</td>\n",
       "    </tr>\n",
       "    <tr>\n",
       "      <th>3361</th>\n",
       "      <td>ham</td>\n",
       "      <td>No messages on her phone. I'm holding it now</td>\n",
       "    </tr>\n",
       "    <tr>\n",
       "      <th>4565</th>\n",
       "      <td>ham</td>\n",
       "      <td>Should i buy him a blackberry bold 2 or torch....</td>\n",
       "    </tr>\n",
       "  </tbody>\n",
       "</table>\n",
       "</div>"
      ],
      "text/plain": [
       "     label                                      email_message\n",
       "3245   ham  Funny fact Nobody teaches volcanoes 2 erupt, t...\n",
       "4647   ham             We are okay. Going to sleep now. Later\n",
       "2730   ham                       I havent lei.. Next mon can?\n",
       "3361   ham       No messages on her phone. I'm holding it now\n",
       "4565   ham  Should i buy him a blackberry bold 2 or torch...."
      ]
     },
     "execution_count": 288,
     "metadata": {},
     "output_type": "execute_result"
    }
   ],
   "source": [
    "Email_data.head(5)"
   ]
  },
  {
   "cell_type": "code",
   "execution_count": 289,
   "id": "2d1566c9",
   "metadata": {},
   "outputs": [
    {
     "data": {
      "text/plain": [
       "(1647, 2)"
      ]
     },
     "execution_count": 289,
     "metadata": {},
     "output_type": "execute_result"
    }
   ],
   "source": [
    "Email_data.shape"
   ]
  },
  {
   "cell_type": "code",
   "execution_count": 290,
   "id": "3cad0c20",
   "metadata": {},
   "outputs": [],
   "source": [
    "### text clening \n",
    "import re ## regular expression"
   ]
  },
  {
   "cell_type": "code",
   "execution_count": 291,
   "id": "5c52bafb",
   "metadata": {},
   "outputs": [],
   "source": [
    "# index reassign and delete the \n",
    "Email_data.reset_index(drop=True,inplace=True) "
   ]
  },
  {
   "cell_type": "code",
   "execution_count": 292,
   "id": "49a666b2",
   "metadata": {},
   "outputs": [
    {
     "data": {
      "text/plain": [
       "0       Funny fact Nobody teaches volcanoes 2 erupt, t...\n",
       "1                  We are okay. Going to sleep now. Later\n",
       "2                            I havent lei.. Next mon can?\n",
       "3            No messages on her phone. I'm holding it now\n",
       "4       Should i buy him a blackberry bold 2 or torch....\n",
       "                              ...                        \n",
       "1642    Want explicit SEX in 30 secs? Ring 02073162414...\n",
       "1643    ASKED 3MOBILE IF 0870 CHATLINES INCLU IN FREE ...\n",
       "1644    Had your contract mobile 11 Mnths? Latest Moto...\n",
       "1645    REMINDER FROM O2: To get 2.50 pounds free call...\n",
       "1646    This is the 2nd time we have tried 2 contact u...\n",
       "Name: email_message, Length: 1647, dtype: object"
      ]
     },
     "execution_count": 292,
     "metadata": {},
     "output_type": "execute_result"
    }
   ],
   "source": [
    "Email_data['email_message']"
   ]
  },
  {
   "cell_type": "code",
   "execution_count": 293,
   "id": "e32b942d",
   "metadata": {},
   "outputs": [
    {
     "data": {
      "text/plain": [
       "'Funny fact Nobody teaches volcanoes 2 erupt, tsunamis 2 arise, hurricanes 2 sway aroundn no 1 teaches hw 2 choose a wife Natural disasters just happens'"
      ]
     },
     "execution_count": 293,
     "metadata": {},
     "output_type": "execute_result"
    }
   ],
   "source": [
    "Email_data['email_message'][0]"
   ]
  },
  {
   "cell_type": "code",
   "execution_count": 294,
   "id": "49ea6883",
   "metadata": {
    "scrolled": true
   },
   "outputs": [
    {
     "data": {
      "text/plain": [
       "'funny fact nobody teaches volcanoes  erupt tsunamis  arise hurricanes  sway aroundn no  teaches hw  choose a wife natural disasters just happens'"
      ]
     },
     "execution_count": 294,
     "metadata": {},
     "output_type": "execute_result"
    }
   ],
   "source": [
    "#a-z . A-Z\n",
    "re.sub('[^a-zA-Z ]','',Email_data['email_message'][0]).lower()"
   ]
  },
  {
   "cell_type": "code",
   "execution_count": 295,
   "id": "9c3ab607",
   "metadata": {},
   "outputs": [],
   "source": [
    "for i in range(len(Email_data)):\n",
    "    Email_data['email_message'][i] = re.sub('[^a-zA-Z ]', '',Email_data['email_message'][i]).lower()\n"
   ]
  },
  {
   "cell_type": "code",
   "execution_count": 296,
   "id": "91d05628",
   "metadata": {},
   "outputs": [
    {
     "data": {
      "text/html": [
       "<div>\n",
       "<style scoped>\n",
       "    .dataframe tbody tr th:only-of-type {\n",
       "        vertical-align: middle;\n",
       "    }\n",
       "\n",
       "    .dataframe tbody tr th {\n",
       "        vertical-align: top;\n",
       "    }\n",
       "\n",
       "    .dataframe thead th {\n",
       "        text-align: right;\n",
       "    }\n",
       "</style>\n",
       "<table border=\"1\" class=\"dataframe\">\n",
       "  <thead>\n",
       "    <tr style=\"text-align: right;\">\n",
       "      <th></th>\n",
       "      <th>label</th>\n",
       "      <th>email_message</th>\n",
       "    </tr>\n",
       "  </thead>\n",
       "  <tbody>\n",
       "    <tr>\n",
       "      <th>0</th>\n",
       "      <td>ham</td>\n",
       "      <td>funny fact nobody teaches volcanoes  erupt tsu...</td>\n",
       "    </tr>\n",
       "    <tr>\n",
       "      <th>1</th>\n",
       "      <td>ham</td>\n",
       "      <td>we are okay going to sleep now later</td>\n",
       "    </tr>\n",
       "    <tr>\n",
       "      <th>2</th>\n",
       "      <td>ham</td>\n",
       "      <td>i havent lei next mon can</td>\n",
       "    </tr>\n",
       "    <tr>\n",
       "      <th>3</th>\n",
       "      <td>ham</td>\n",
       "      <td>no messages on her phone im holding it now</td>\n",
       "    </tr>\n",
       "    <tr>\n",
       "      <th>4</th>\n",
       "      <td>ham</td>\n",
       "      <td>should i buy him a blackberry bold  or torch s...</td>\n",
       "    </tr>\n",
       "  </tbody>\n",
       "</table>\n",
       "</div>"
      ],
      "text/plain": [
       "  label                                      email_message\n",
       "0   ham  funny fact nobody teaches volcanoes  erupt tsu...\n",
       "1   ham               we are okay going to sleep now later\n",
       "2   ham                          i havent lei next mon can\n",
       "3   ham         no messages on her phone im holding it now\n",
       "4   ham  should i buy him a blackberry bold  or torch s..."
      ]
     },
     "execution_count": 296,
     "metadata": {},
     "output_type": "execute_result"
    }
   ],
   "source": [
    "Email_data.head()"
   ]
  },
  {
   "cell_type": "code",
   "execution_count": 297,
   "id": "18c3437c",
   "metadata": {},
   "outputs": [],
   "source": [
    "labels = list(Email_data['label'])\n",
    "temp_labels = [1 if item ==\"spam\" else 0 for item in labels]\n",
    "Email_data['label'] = temp_labels"
   ]
  },
  {
   "cell_type": "code",
   "execution_count": 298,
   "id": "e1f87889",
   "metadata": {},
   "outputs": [],
   "source": [
    "# label ham = 0 and spam= 1  without using Map() function\n",
    "#for i in range(len(Email_data)):\n",
    "#    if Email_data['label'][i] == 'ham':\n",
    "#        Email_data['label'][i] = 0\n",
    "#    else:\n",
    "#        Email_data['label'][i] = 1"
   ]
  },
  {
   "cell_type": "code",
   "execution_count": 299,
   "id": "00578485",
   "metadata": {},
   "outputs": [],
   "source": [
    "## list comprehension\n",
    "#[1 if i == 'spam' else 0 for i in labels]"
   ]
  },
  {
   "cell_type": "code",
   "execution_count": 300,
   "id": "061346ef",
   "metadata": {},
   "outputs": [
    {
     "data": {
      "text/html": [
       "<div>\n",
       "<style scoped>\n",
       "    .dataframe tbody tr th:only-of-type {\n",
       "        vertical-align: middle;\n",
       "    }\n",
       "\n",
       "    .dataframe tbody tr th {\n",
       "        vertical-align: top;\n",
       "    }\n",
       "\n",
       "    .dataframe thead th {\n",
       "        text-align: right;\n",
       "    }\n",
       "</style>\n",
       "<table border=\"1\" class=\"dataframe\">\n",
       "  <thead>\n",
       "    <tr style=\"text-align: right;\">\n",
       "      <th></th>\n",
       "      <th>label</th>\n",
       "      <th>email_message</th>\n",
       "    </tr>\n",
       "  </thead>\n",
       "  <tbody>\n",
       "    <tr>\n",
       "      <th>0</th>\n",
       "      <td>0</td>\n",
       "      <td>funny fact nobody teaches volcanoes  erupt tsu...</td>\n",
       "    </tr>\n",
       "    <tr>\n",
       "      <th>1</th>\n",
       "      <td>0</td>\n",
       "      <td>we are okay going to sleep now later</td>\n",
       "    </tr>\n",
       "    <tr>\n",
       "      <th>2</th>\n",
       "      <td>0</td>\n",
       "      <td>i havent lei next mon can</td>\n",
       "    </tr>\n",
       "    <tr>\n",
       "      <th>3</th>\n",
       "      <td>0</td>\n",
       "      <td>no messages on her phone im holding it now</td>\n",
       "    </tr>\n",
       "    <tr>\n",
       "      <th>4</th>\n",
       "      <td>0</td>\n",
       "      <td>should i buy him a blackberry bold  or torch s...</td>\n",
       "    </tr>\n",
       "  </tbody>\n",
       "</table>\n",
       "</div>"
      ],
      "text/plain": [
       "   label                                      email_message\n",
       "0      0  funny fact nobody teaches volcanoes  erupt tsu...\n",
       "1      0               we are okay going to sleep now later\n",
       "2      0                          i havent lei next mon can\n",
       "3      0         no messages on her phone im holding it now\n",
       "4      0  should i buy him a blackberry bold  or torch s..."
      ]
     },
     "execution_count": 300,
     "metadata": {},
     "output_type": "execute_result"
    }
   ],
   "source": [
    "Email_data.head()"
   ]
  },
  {
   "cell_type": "code",
   "execution_count": 301,
   "id": "f2fb911e",
   "metadata": {},
   "outputs": [],
   "source": [
    "# this is done by using map funciton \n",
    "# label_dict = {'ham':0,'spam':1}\n",
    "# Email_data['label'] =  Email.data['label'].map(label_dict)"
   ]
  },
  {
   "cell_type": "code",
   "execution_count": 302,
   "id": "61824d7b",
   "metadata": {},
   "outputs": [
    {
     "data": {
      "text/plain": [
       "0       0\n",
       "1       0\n",
       "2       0\n",
       "3       0\n",
       "4       0\n",
       "       ..\n",
       "1642    1\n",
       "1643    1\n",
       "1644    1\n",
       "1645    1\n",
       "1646    1\n",
       "Name: label, Length: 1647, dtype: int64"
      ]
     },
     "execution_count": 302,
     "metadata": {},
     "output_type": "execute_result"
    }
   ],
   "source": [
    "Email_data['label']"
   ]
  },
  {
   "cell_type": "code",
   "execution_count": null,
   "id": "d0700c97",
   "metadata": {},
   "outputs": [],
   "source": []
  },
  {
   "cell_type": "code",
   "execution_count": 303,
   "id": "a6fdbc26",
   "metadata": {},
   "outputs": [],
   "source": [
    "x = Email_data['email_message']\n",
    "y = Email_data['label']"
   ]
  },
  {
   "cell_type": "code",
   "execution_count": 304,
   "id": "d4dc6df4",
   "metadata": {},
   "outputs": [],
   "source": [
    "x = x.values"
   ]
  },
  {
   "cell_type": "code",
   "execution_count": null,
   "id": "c8a964a9",
   "metadata": {},
   "outputs": [],
   "source": []
  },
  {
   "cell_type": "code",
   "execution_count": 305,
   "id": "c70f4a7e",
   "metadata": {},
   "outputs": [],
   "source": [
    "bow_obj = CountVectorizer(max_features = 1500,stop_words='english')\n"
   ]
  },
  {
   "cell_type": "code",
   "execution_count": 306,
   "id": "9f9c4dd0",
   "metadata": {},
   "outputs": [],
   "source": [
    "X = bow_obj.fit_transform(x)"
   ]
  },
  {
   "cell_type": "code",
   "execution_count": 307,
   "id": "99fa56ed",
   "metadata": {
    "scrolled": true
   },
   "outputs": [
    {
     "data": {
      "text/plain": [
       "<1647x1500 sparse matrix of type '<class 'numpy.int64'>'\n",
       "\twith 11375 stored elements in Compressed Sparse Row format>"
      ]
     },
     "execution_count": 307,
     "metadata": {},
     "output_type": "execute_result"
    }
   ],
   "source": [
    "# interview point  asked by recuter\n",
    "X"
   ]
  },
  {
   "cell_type": "code",
   "execution_count": 308,
   "id": "eb7c827c",
   "metadata": {
    "scrolled": true
   },
   "outputs": [],
   "source": [
    "# to see the output of X use Toarray()\n",
    "X = X.toarray()\n"
   ]
  },
  {
   "cell_type": "code",
   "execution_count": 309,
   "id": "ad7af5d6",
   "metadata": {},
   "outputs": [
    {
     "data": {
      "text/plain": [
       "array([[0, 0, 0, ..., 0, 0, 0],\n",
       "       [0, 0, 0, ..., 0, 0, 0],\n",
       "       [0, 0, 0, ..., 0, 0, 0],\n",
       "       ...,\n",
       "       [0, 0, 0, ..., 0, 0, 0],\n",
       "       [0, 0, 0, ..., 0, 0, 0],\n",
       "       [0, 0, 0, ..., 0, 0, 0]], dtype=int64)"
      ]
     },
     "execution_count": 309,
     "metadata": {},
     "output_type": "execute_result"
    }
   ],
   "source": [
    "X"
   ]
  },
  {
   "cell_type": "code",
   "execution_count": 310,
   "id": "78a64bdd",
   "metadata": {},
   "outputs": [],
   "source": [
    "# matrix \n",
    "#1: sparse matrix\n",
    "#2: Dense matrix "
   ]
  },
  {
   "cell_type": "code",
   "execution_count": 311,
   "id": "0cbb84e1",
   "metadata": {},
   "outputs": [
    {
     "data": {
      "text/plain": [
       "0       0\n",
       "1       0\n",
       "2       0\n",
       "3       0\n",
       "4       0\n",
       "       ..\n",
       "1642    1\n",
       "1643    1\n",
       "1644    1\n",
       "1645    1\n",
       "1646    1\n",
       "Name: label, Length: 1647, dtype: int64"
      ]
     },
     "execution_count": 311,
     "metadata": {},
     "output_type": "execute_result"
    }
   ],
   "source": [
    "y"
   ]
  },
  {
   "cell_type": "code",
   "execution_count": 312,
   "id": "e156d578",
   "metadata": {},
   "outputs": [
    {
     "data": {
      "text/plain": [
       "((1647, 1500), (1647,))"
      ]
     },
     "execution_count": 312,
     "metadata": {},
     "output_type": "execute_result"
    }
   ],
   "source": [
    "X.shape, y.shape"
   ]
  },
  {
   "cell_type": "code",
   "execution_count": 313,
   "id": "247b9b07",
   "metadata": {},
   "outputs": [],
   "source": [
    " from sklearn.model_selection import train_test_split"
   ]
  },
  {
   "cell_type": "code",
   "execution_count": 314,
   "id": "6dc5b7aa",
   "metadata": {},
   "outputs": [],
   "source": [
    "# training and testing spliting\n",
    "x_train,x_test,y_train,y_test= train_test_split(X,y,test_size=0.15)"
   ]
  },
  {
   "cell_type": "code",
   "execution_count": 315,
   "id": "285edd17",
   "metadata": {},
   "outputs": [
    {
     "data": {
      "text/plain": [
       "((1399, 1500), (1399,))"
      ]
     },
     "execution_count": 315,
     "metadata": {},
     "output_type": "execute_result"
    }
   ],
   "source": [
    "# if clasiffication then superwise \n",
    "x_train.shape,y_train.shape"
   ]
  },
  {
   "cell_type": "code",
   "execution_count": 316,
   "id": "371fb863",
   "metadata": {},
   "outputs": [],
   "source": [
    "# for text classification  probleam statement  we use Naive bayes algorithem\n",
    "from sklearn.naive_bayes import BernoulliNB,GaussianNB,MultinomialNB\n",
    "from sklearn.tree import DecisionTreeClassifier\n",
    "from sklearn.ensemble import RandomForestClassifier\n",
    "from sklearn.linear_model import LogisticRegression"
   ]
  },
  {
   "cell_type": "code",
   "execution_count": 317,
   "id": "254a3aee",
   "metadata": {},
   "outputs": [],
   "source": [
    "#y_train =  np.array(y_train,dtype=int)"
   ]
  },
  {
   "cell_type": "code",
   "execution_count": null,
   "id": "8adf48e9",
   "metadata": {},
   "outputs": [],
   "source": []
  },
  {
   "cell_type": "code",
   "execution_count": 318,
   "id": "07baf0b8",
   "metadata": {},
   "outputs": [],
   "source": [
    "# object Creatioin\n",
    "bnb = BernoulliNB()\n",
    "gnb = GaussianNB()\n",
    "mnb = MultinomialNB()"
   ]
  },
  {
   "cell_type": "code",
   "execution_count": 319,
   "id": "168ab0d2",
   "metadata": {},
   "outputs": [
    {
     "data": {
      "text/plain": [
       "((1399, 1500), (1399,))"
      ]
     },
     "execution_count": 319,
     "metadata": {},
     "output_type": "execute_result"
    }
   ],
   "source": [
    "x_train.shape , y_train.shape "
   ]
  },
  {
   "cell_type": "code",
   "execution_count": 320,
   "id": "0c00f261",
   "metadata": {},
   "outputs": [
    {
     "name": "stdout",
     "output_type": "stream",
     "text": [
      "BernoulliNB Trained\n",
      "GaussianNB training\n",
      "MultinomialNB Trained\n"
     ]
    }
   ],
   "source": [
    "## training algorithms\n",
    "bnb.fit(x_train,y_train)\n",
    "print(\"BernoulliNB Trained\")\n",
    "\n",
    "gnb.fit(x_train,y_train)\n",
    "print(\"GaussianNB training\")\n",
    "\n",
    "mnb.fit(x_train,y_train)\n",
    "print(\"MultinomialNB Trained\")"
   ]
  },
  {
   "cell_type": "code",
   "execution_count": null,
   "id": "b33df42c",
   "metadata": {},
   "outputs": [],
   "source": []
  },
  {
   "cell_type": "code",
   "execution_count": 321,
   "id": "a5f9d553",
   "metadata": {
    "scrolled": true
   },
   "outputs": [
    {
     "name": "stdout",
     "output_type": "stream",
     "text": [
      "MultinomialNB Training score :  95.71122230164403\n",
      "MultinomialNB Testing score :  95.96774193548387\n",
      "\n",
      "BernoulliNB Training score :  98.35596854896355\n",
      "BernoulliNB Testing score :  96.7741935483871\n",
      "\n",
      "GaussianNB Training score :  96.64045746962115\n",
      "GaussianNB Testing score :  96.7741935483871\n"
     ]
    }
   ],
   "source": [
    "print(\"MultinomialNB Training score : \",bnb.score(x_train,y_train)*100)\n",
    "print(\"MultinomialNB Testing score : \",bnb.score(x_test,y_test)*100)\n",
    "\n",
    "print()\n",
    "\n",
    "print(\"BernoulliNB Training score : \",gnb.score(x_train,y_train)*100)\n",
    "print(\"BernoulliNB Testing score : \",gnb.score(x_test,y_test)*100)\n",
    "\n",
    "print()\n",
    "\n",
    "print(\"GaussianNB Training score : \",mnb.score(x_train,y_train)*100)\n",
    "print(\"GaussianNB Testing score : \",mnb.score(x_test,y_test)*100)"
   ]
  },
  {
   "cell_type": "code",
   "execution_count": 322,
   "id": "853b60e5",
   "metadata": {},
   "outputs": [
    {
     "data": {
      "text/plain": [
       "(248, 1500)"
      ]
     },
     "execution_count": 322,
     "metadata": {},
     "output_type": "execute_result"
    }
   ],
   "source": [
    "## prediction\n",
    "x_test.shape"
   ]
  },
  {
   "cell_type": "code",
   "execution_count": 323,
   "id": "2546b490",
   "metadata": {},
   "outputs": [],
   "source": [
    "prediction=mnb.predict(x_test)"
   ]
  },
  {
   "cell_type": "code",
   "execution_count": 324,
   "id": "222ba555",
   "metadata": {
    "scrolled": true
   },
   "outputs": [
    {
     "data": {
      "text/html": [
       "<div>\n",
       "<style scoped>\n",
       "    .dataframe tbody tr th:only-of-type {\n",
       "        vertical-align: middle;\n",
       "    }\n",
       "\n",
       "    .dataframe tbody tr th {\n",
       "        vertical-align: top;\n",
       "    }\n",
       "\n",
       "    .dataframe thead th {\n",
       "        text-align: right;\n",
       "    }\n",
       "</style>\n",
       "<table border=\"1\" class=\"dataframe\">\n",
       "  <thead>\n",
       "    <tr style=\"text-align: right;\">\n",
       "      <th></th>\n",
       "      <th>Actual</th>\n",
       "      <th>Prediction</th>\n",
       "    </tr>\n",
       "  </thead>\n",
       "  <tbody>\n",
       "    <tr>\n",
       "      <th>0</th>\n",
       "      <td>0</td>\n",
       "      <td>0</td>\n",
       "    </tr>\n",
       "    <tr>\n",
       "      <th>1</th>\n",
       "      <td>0</td>\n",
       "      <td>0</td>\n",
       "    </tr>\n",
       "    <tr>\n",
       "      <th>2</th>\n",
       "      <td>1</td>\n",
       "      <td>1</td>\n",
       "    </tr>\n",
       "    <tr>\n",
       "      <th>3</th>\n",
       "      <td>0</td>\n",
       "      <td>0</td>\n",
       "    </tr>\n",
       "    <tr>\n",
       "      <th>4</th>\n",
       "      <td>1</td>\n",
       "      <td>1</td>\n",
       "    </tr>\n",
       "    <tr>\n",
       "      <th>5</th>\n",
       "      <td>0</td>\n",
       "      <td>0</td>\n",
       "    </tr>\n",
       "    <tr>\n",
       "      <th>6</th>\n",
       "      <td>1</td>\n",
       "      <td>1</td>\n",
       "    </tr>\n",
       "    <tr>\n",
       "      <th>7</th>\n",
       "      <td>0</td>\n",
       "      <td>0</td>\n",
       "    </tr>\n",
       "    <tr>\n",
       "      <th>8</th>\n",
       "      <td>1</td>\n",
       "      <td>1</td>\n",
       "    </tr>\n",
       "    <tr>\n",
       "      <th>9</th>\n",
       "      <td>1</td>\n",
       "      <td>1</td>\n",
       "    </tr>\n",
       "    <tr>\n",
       "      <th>10</th>\n",
       "      <td>1</td>\n",
       "      <td>1</td>\n",
       "    </tr>\n",
       "    <tr>\n",
       "      <th>11</th>\n",
       "      <td>0</td>\n",
       "      <td>0</td>\n",
       "    </tr>\n",
       "    <tr>\n",
       "      <th>12</th>\n",
       "      <td>1</td>\n",
       "      <td>0</td>\n",
       "    </tr>\n",
       "    <tr>\n",
       "      <th>13</th>\n",
       "      <td>0</td>\n",
       "      <td>0</td>\n",
       "    </tr>\n",
       "    <tr>\n",
       "      <th>14</th>\n",
       "      <td>0</td>\n",
       "      <td>0</td>\n",
       "    </tr>\n",
       "    <tr>\n",
       "      <th>15</th>\n",
       "      <td>0</td>\n",
       "      <td>0</td>\n",
       "    </tr>\n",
       "    <tr>\n",
       "      <th>16</th>\n",
       "      <td>0</td>\n",
       "      <td>0</td>\n",
       "    </tr>\n",
       "    <tr>\n",
       "      <th>17</th>\n",
       "      <td>0</td>\n",
       "      <td>0</td>\n",
       "    </tr>\n",
       "    <tr>\n",
       "      <th>18</th>\n",
       "      <td>1</td>\n",
       "      <td>1</td>\n",
       "    </tr>\n",
       "    <tr>\n",
       "      <th>19</th>\n",
       "      <td>0</td>\n",
       "      <td>0</td>\n",
       "    </tr>\n",
       "    <tr>\n",
       "      <th>20</th>\n",
       "      <td>0</td>\n",
       "      <td>0</td>\n",
       "    </tr>\n",
       "    <tr>\n",
       "      <th>21</th>\n",
       "      <td>0</td>\n",
       "      <td>0</td>\n",
       "    </tr>\n",
       "    <tr>\n",
       "      <th>22</th>\n",
       "      <td>0</td>\n",
       "      <td>0</td>\n",
       "    </tr>\n",
       "    <tr>\n",
       "      <th>23</th>\n",
       "      <td>0</td>\n",
       "      <td>0</td>\n",
       "    </tr>\n",
       "    <tr>\n",
       "      <th>24</th>\n",
       "      <td>1</td>\n",
       "      <td>1</td>\n",
       "    </tr>\n",
       "    <tr>\n",
       "      <th>25</th>\n",
       "      <td>1</td>\n",
       "      <td>1</td>\n",
       "    </tr>\n",
       "    <tr>\n",
       "      <th>26</th>\n",
       "      <td>1</td>\n",
       "      <td>1</td>\n",
       "    </tr>\n",
       "    <tr>\n",
       "      <th>27</th>\n",
       "      <td>0</td>\n",
       "      <td>0</td>\n",
       "    </tr>\n",
       "    <tr>\n",
       "      <th>28</th>\n",
       "      <td>0</td>\n",
       "      <td>0</td>\n",
       "    </tr>\n",
       "    <tr>\n",
       "      <th>29</th>\n",
       "      <td>1</td>\n",
       "      <td>1</td>\n",
       "    </tr>\n",
       "    <tr>\n",
       "      <th>30</th>\n",
       "      <td>0</td>\n",
       "      <td>0</td>\n",
       "    </tr>\n",
       "    <tr>\n",
       "      <th>31</th>\n",
       "      <td>1</td>\n",
       "      <td>1</td>\n",
       "    </tr>\n",
       "    <tr>\n",
       "      <th>32</th>\n",
       "      <td>1</td>\n",
       "      <td>1</td>\n",
       "    </tr>\n",
       "    <tr>\n",
       "      <th>33</th>\n",
       "      <td>1</td>\n",
       "      <td>1</td>\n",
       "    </tr>\n",
       "    <tr>\n",
       "      <th>34</th>\n",
       "      <td>0</td>\n",
       "      <td>1</td>\n",
       "    </tr>\n",
       "    <tr>\n",
       "      <th>35</th>\n",
       "      <td>0</td>\n",
       "      <td>0</td>\n",
       "    </tr>\n",
       "    <tr>\n",
       "      <th>36</th>\n",
       "      <td>1</td>\n",
       "      <td>1</td>\n",
       "    </tr>\n",
       "    <tr>\n",
       "      <th>37</th>\n",
       "      <td>0</td>\n",
       "      <td>0</td>\n",
       "    </tr>\n",
       "    <tr>\n",
       "      <th>38</th>\n",
       "      <td>0</td>\n",
       "      <td>0</td>\n",
       "    </tr>\n",
       "    <tr>\n",
       "      <th>39</th>\n",
       "      <td>1</td>\n",
       "      <td>1</td>\n",
       "    </tr>\n",
       "  </tbody>\n",
       "</table>\n",
       "</div>"
      ],
      "text/plain": [
       "    Actual  Prediction\n",
       "0        0           0\n",
       "1        0           0\n",
       "2        1           1\n",
       "3        0           0\n",
       "4        1           1\n",
       "5        0           0\n",
       "6        1           1\n",
       "7        0           0\n",
       "8        1           1\n",
       "9        1           1\n",
       "10       1           1\n",
       "11       0           0\n",
       "12       1           0\n",
       "13       0           0\n",
       "14       0           0\n",
       "15       0           0\n",
       "16       0           0\n",
       "17       0           0\n",
       "18       1           1\n",
       "19       0           0\n",
       "20       0           0\n",
       "21       0           0\n",
       "22       0           0\n",
       "23       0           0\n",
       "24       1           1\n",
       "25       1           1\n",
       "26       1           1\n",
       "27       0           0\n",
       "28       0           0\n",
       "29       1           1\n",
       "30       0           0\n",
       "31       1           1\n",
       "32       1           1\n",
       "33       1           1\n",
       "34       0           1\n",
       "35       0           0\n",
       "36       1           1\n",
       "37       0           0\n",
       "38       0           0\n",
       "39       1           1"
      ]
     },
     "execution_count": 324,
     "metadata": {},
     "output_type": "execute_result"
    }
   ],
   "source": [
    "pred = list(prediction)\n",
    "actual=list(y_test)\n",
    "comparison_df = pd.DataFrame({'Actual':actual,'Prediction':pred})\n",
    "comparison_df.head(40)"
   ]
  },
  {
   "cell_type": "code",
   "execution_count": 325,
   "id": "1b8cc8d2",
   "metadata": {},
   "outputs": [],
   "source": [
    "from sklearn.metrics import confusion_matrix, classification_report\n"
   ]
  },
  {
   "cell_type": "code",
   "execution_count": 326,
   "id": "5f285596",
   "metadata": {},
   "outputs": [
    {
     "data": {
      "text/plain": [
       "array([[156,   2],\n",
       "       [  6,  84]], dtype=int64)"
      ]
     },
     "execution_count": 326,
     "metadata": {},
     "output_type": "execute_result"
    }
   ],
   "source": [
    "matrix=confusion_matrix(comparison_df['Actual'],comparison_df['Prediction'])\n",
    "matrix"
   ]
  },
  {
   "cell_type": "code",
   "execution_count": 327,
   "id": "f55d9d6a",
   "metadata": {
    "scrolled": true
   },
   "outputs": [
    {
     "data": {
      "image/png": "[encoded data removed]",
      "text/plain": [
       "<Figure size 640x480 with 2 Axes>"
      ]
     },
     "metadata": {},
     "output_type": "display_data"
    }
   ],
   "source": [
    "sns.heatmap(matrix,annot=True,fmt='d')\n",
    "plt.title('confustion matrix on email classification project')\n",
    "plt.show()"
   ]
  },
  {
   "cell_type": "code",
   "execution_count": 328,
   "id": "5501274e",
   "metadata": {
    "scrolled": true
   },
   "outputs": [
    {
     "name": "stdout",
     "output_type": "stream",
     "text": [
      "              precision    recall  f1-score   support\n",
      "\n",
      "           0       0.96      0.99      0.97       158\n",
      "           1       0.98      0.93      0.95        90\n",
      "\n",
      "    accuracy                           0.97       248\n",
      "   macro avg       0.97      0.96      0.96       248\n",
      "weighted avg       0.97      0.97      0.97       248\n",
      "\n"
     ]
    }
   ],
   "source": [
    "print(classification_report(comparison_df['Actual'],comparison_df['Prediction']))"
   ]
  },
  {
   "cell_type": "markdown",
   "id": "15d066f0",
   "metadata": {},
   "source": [
    "### saving our models and algorithems"
   ]
  },
  {
   "cell_type": "code",
   "execution_count": 329,
   "id": "fedda24d",
   "metadata": {},
   "outputs": [],
   "source": [
    "import os,joblib"
   ]
  },
  {
   "cell_type": "code",
   "execution_count": 330,
   "id": "f418b91c",
   "metadata": {},
   "outputs": [],
   "source": [
    "os.makedirs('models',exist_ok=True)"
   ]
  },
  {
   "cell_type": "code",
   "execution_count": 331,
   "id": "ea647745",
   "metadata": {},
   "outputs": [
    {
     "data": {
      "text/plain": [
       "['./models/multinomialNB.lb']"
      ]
     },
     "execution_count": 331,
     "metadata": {},
     "output_type": "execute_result"
    }
   ],
   "source": [
    "##\n",
    "joblib.dump(bnb,\"./models/bernouliNB.lb\")\n",
    "joblib.dump(gnb,\"./models/gasussianNB.lb\")\n",
    "joblib.dump(mnb,\"./models/multinomialNB.lb\")"
   ]
  },
  {
   "cell_type": "code",
   "execution_count": 332,
   "id": "ad7fccac",
   "metadata": {},
   "outputs": [
    {
     "data": {
      "text/plain": [
       "['./models/bag_of_words.lb']"
      ]
     },
     "execution_count": 332,
     "metadata": {},
     "output_type": "execute_result"
    }
   ],
   "source": [
    "## bow_obj\n",
    "\n",
    "joblib.dump(bow_obj,'./models/bag_of_words.lb')"
   ]
  },
  {
   "cell_type": "code",
   "execution_count": 360,
   "id": "748c818c",
   "metadata": {},
   "outputs": [
    {
     "name": "stdout",
     "output_type": "stream",
     "text": [
      "      label                                      email_message\n",
      "1000      1  free entry in  a wkly comp to win fa cup final...\n",
      "1001      1  freemsg hey there darling its been  weeks now ...\n",
      "1002      1  winner as a valued network customer you have b...\n",
      "1003      1  had your mobile  months or more u r entitled t...\n",
      "1004      1  six chances to win cash from  to  pounds txt c...\n",
      "...     ...                                                ...\n",
      "1642      1  want explicit sex in  secs ring  now costs pmi...\n",
      "1643      1  asked mobile if  chatlines inclu in free mins ...\n",
      "1644      1  had your contract mobile  mnths latest motorol...\n",
      "1645      1  reminder from o to get  pounds free call credi...\n",
      "1646      1  this is the nd time we have tried  contact u u...\n",
      "\n",
      "[647 rows x 2 columns]\n"
     ]
    }
   ],
   "source": [
    "print(Email_data[Email_data['label']== 1])"
   ]
  },
  {
   "cell_type": "code",
   "execution_count": null,
   "id": "a5304a0e",
   "metadata": {},
   "outputs": [],
   "source": []
  },
  {
   "cell_type": "markdown",
   "id": "66652ef3",
   "metadata": {},
   "source": [
    "# The End 😁"
   ]
  }
 ],
 "metadata": {
  "kernelspec": {
   "display_name": "Python 3 (ipykernel)",
   "language": "python",
   "name": "python3"
  },
  "language_info": {
   "codemirror_mode": {
    "name": "ipython",
    "version": 3
   },
   "file_extension": ".py",
   "mimetype": "text/x-python",
   "name": "python",
   "nbconvert_exporter": "python",
   "pygments_lexer": "ipython3",
   "version": "3.11.5"
  }
 },
 "nbformat": 4,
 "nbformat_minor": 5
}
